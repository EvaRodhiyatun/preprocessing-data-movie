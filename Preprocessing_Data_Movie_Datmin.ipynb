{
  "cells": [
    {
      "cell_type": "code",
      "execution_count": null,
      "id": "88c6517e",
      "metadata": {
        "id": "88c6517e"
      },
      "outputs": [],
      "source": [
        "import pandas as pd"
      ]
    },
    {
      "cell_type": "markdown",
      "source": [
        "Mengimpor modul Python pandas untuk manajemen dan analisis data yang akan digunakan. Kemudian memanggil dataset movie ke dalam DataFrame."
      ],
      "metadata": {
        "id": "dmcDn9mhLdIA"
      },
      "id": "dmcDn9mhLdIA"
    },
    {
      "cell_type": "code",
      "execution_count": null,
      "id": "806da609",
      "metadata": {
        "colab": {
          "base_uri": "https://localhost:8080/",
          "height": 487
        },
        "id": "806da609",
        "outputId": "5120b85d-abab-496b-9f14-f5e1291b7b66"
      },
      "outputs": [
        {
          "output_type": "execute_result",
          "data": {
            "text/plain": [
              "    color      director_name  duration        gross  \\\n",
              "0   Color    Martin Scorsese       240  116866727.0   \n",
              "1   Color        Shane Black       195  408992272.0   \n",
              "2  color   Quentin Tarantino       187   54116191.0   \n",
              "3   Color   Kenneth Lonergan       186      46495.0   \n",
              "4   Color      Peter Jackson       186  258355354.0   \n",
              "\n",
              "                                 genres                          movie_title  \\\n",
              "0          Biography|Comedy|Crime|Drama              The Wolf of Wall Street   \n",
              "1               Action|Adventure|Sci-Fi                           Iron Man 3   \n",
              "2  Crime|Drama|Mystery|Thriller|Western                    The Hateful Eight   \n",
              "3                                 Drama                             Margaret   \n",
              "4                     Adventure|Fantasy  The Hobbit: The Desolation of Smaug   \n",
              "\n",
              "   title_year language country       budget  imdb_score  \\\n",
              "0        2013  English     USA  100000000.0         8.2   \n",
              "1        2013  English     USA  200000000.0         7.2   \n",
              "2        2015  English     USA   44000000.0         7.9   \n",
              "3        2011  English     usa   14000000.0         6.5   \n",
              "4        2013  English     USA  225000000.0         7.9   \n",
              "\n",
              "                                              actors  movie_facebook_likes  \n",
              "0  Leonardo DiCaprio,Matthew McConaughey,Jon Favreau                138000  \n",
              "1          Robert Downey Jr.,Jon Favreau,Don Cheadle                 95000  \n",
              "2          Craig Stark,Jennifer Jason Leigh,Zoë Bell                114000  \n",
              "3        Matt Damon,Kieran Culkin,John Gallagher Jr.                     0  \n",
              "4              Aidan Turner,Adam Brown,James Nesbitt                 83000  "
            ],
            "text/html": [
              "\n",
              "  <div id=\"df-e4bac17f-6a08-466e-9dff-72657d940230\" class=\"colab-df-container\">\n",
              "    <div>\n",
              "<style scoped>\n",
              "    .dataframe tbody tr th:only-of-type {\n",
              "        vertical-align: middle;\n",
              "    }\n",
              "\n",
              "    .dataframe tbody tr th {\n",
              "        vertical-align: top;\n",
              "    }\n",
              "\n",
              "    .dataframe thead th {\n",
              "        text-align: right;\n",
              "    }\n",
              "</style>\n",
              "<table border=\"1\" class=\"dataframe\">\n",
              "  <thead>\n",
              "    <tr style=\"text-align: right;\">\n",
              "      <th></th>\n",
              "      <th>color</th>\n",
              "      <th>director_name</th>\n",
              "      <th>duration</th>\n",
              "      <th>gross</th>\n",
              "      <th>genres</th>\n",
              "      <th>movie_title</th>\n",
              "      <th>title_year</th>\n",
              "      <th>language</th>\n",
              "      <th>country</th>\n",
              "      <th>budget</th>\n",
              "      <th>imdb_score</th>\n",
              "      <th>actors</th>\n",
              "      <th>movie_facebook_likes</th>\n",
              "    </tr>\n",
              "  </thead>\n",
              "  <tbody>\n",
              "    <tr>\n",
              "      <th>0</th>\n",
              "      <td>Color</td>\n",
              "      <td>Martin Scorsese</td>\n",
              "      <td>240</td>\n",
              "      <td>116866727.0</td>\n",
              "      <td>Biography|Comedy|Crime|Drama</td>\n",
              "      <td>The Wolf of Wall Street</td>\n",
              "      <td>2013</td>\n",
              "      <td>English</td>\n",
              "      <td>USA</td>\n",
              "      <td>100000000.0</td>\n",
              "      <td>8.2</td>\n",
              "      <td>Leonardo DiCaprio,Matthew McConaughey,Jon Favreau</td>\n",
              "      <td>138000</td>\n",
              "    </tr>\n",
              "    <tr>\n",
              "      <th>1</th>\n",
              "      <td>Color</td>\n",
              "      <td>Shane Black</td>\n",
              "      <td>195</td>\n",
              "      <td>408992272.0</td>\n",
              "      <td>Action|Adventure|Sci-Fi</td>\n",
              "      <td>Iron Man 3</td>\n",
              "      <td>2013</td>\n",
              "      <td>English</td>\n",
              "      <td>USA</td>\n",
              "      <td>200000000.0</td>\n",
              "      <td>7.2</td>\n",
              "      <td>Robert Downey Jr.,Jon Favreau,Don Cheadle</td>\n",
              "      <td>95000</td>\n",
              "    </tr>\n",
              "    <tr>\n",
              "      <th>2</th>\n",
              "      <td>color</td>\n",
              "      <td>Quentin Tarantino</td>\n",
              "      <td>187</td>\n",
              "      <td>54116191.0</td>\n",
              "      <td>Crime|Drama|Mystery|Thriller|Western</td>\n",
              "      <td>The Hateful Eight</td>\n",
              "      <td>2015</td>\n",
              "      <td>English</td>\n",
              "      <td>USA</td>\n",
              "      <td>44000000.0</td>\n",
              "      <td>7.9</td>\n",
              "      <td>Craig Stark,Jennifer Jason Leigh,Zoë Bell</td>\n",
              "      <td>114000</td>\n",
              "    </tr>\n",
              "    <tr>\n",
              "      <th>3</th>\n",
              "      <td>Color</td>\n",
              "      <td>Kenneth Lonergan</td>\n",
              "      <td>186</td>\n",
              "      <td>46495.0</td>\n",
              "      <td>Drama</td>\n",
              "      <td>Margaret</td>\n",
              "      <td>2011</td>\n",
              "      <td>English</td>\n",
              "      <td>usa</td>\n",
              "      <td>14000000.0</td>\n",
              "      <td>6.5</td>\n",
              "      <td>Matt Damon,Kieran Culkin,John Gallagher Jr.</td>\n",
              "      <td>0</td>\n",
              "    </tr>\n",
              "    <tr>\n",
              "      <th>4</th>\n",
              "      <td>Color</td>\n",
              "      <td>Peter Jackson</td>\n",
              "      <td>186</td>\n",
              "      <td>258355354.0</td>\n",
              "      <td>Adventure|Fantasy</td>\n",
              "      <td>The Hobbit: The Desolation of Smaug</td>\n",
              "      <td>2013</td>\n",
              "      <td>English</td>\n",
              "      <td>USA</td>\n",
              "      <td>225000000.0</td>\n",
              "      <td>7.9</td>\n",
              "      <td>Aidan Turner,Adam Brown,James Nesbitt</td>\n",
              "      <td>83000</td>\n",
              "    </tr>\n",
              "  </tbody>\n",
              "</table>\n",
              "</div>\n",
              "    <div class=\"colab-df-buttons\">\n",
              "\n",
              "  <div class=\"colab-df-container\">\n",
              "    <button class=\"colab-df-convert\" onclick=\"convertToInteractive('df-e4bac17f-6a08-466e-9dff-72657d940230')\"\n",
              "            title=\"Convert this dataframe to an interactive table.\"\n",
              "            style=\"display:none;\">\n",
              "\n",
              "  <svg xmlns=\"http://www.w3.org/2000/svg\" height=\"24px\" viewBox=\"0 -960 960 960\">\n",
              "    <path d=\"M120-120v-720h720v720H120Zm60-500h600v-160H180v160Zm220 220h160v-160H400v160Zm0 220h160v-160H400v160ZM180-400h160v-160H180v160Zm440 0h160v-160H620v160ZM180-180h160v-160H180v160Zm440 0h160v-160H620v160Z\"/>\n",
              "  </svg>\n",
              "    </button>\n",
              "\n",
              "  <style>\n",
              "    .colab-df-container {\n",
              "      display:flex;\n",
              "      gap: 12px;\n",
              "    }\n",
              "\n",
              "    .colab-df-convert {\n",
              "      background-color: #E8F0FE;\n",
              "      border: none;\n",
              "      border-radius: 50%;\n",
              "      cursor: pointer;\n",
              "      display: none;\n",
              "      fill: #1967D2;\n",
              "      height: 32px;\n",
              "      padding: 0 0 0 0;\n",
              "      width: 32px;\n",
              "    }\n",
              "\n",
              "    .colab-df-convert:hover {\n",
              "      background-color: #E2EBFA;\n",
              "      box-shadow: 0px 1px 2px rgba(60, 64, 67, 0.3), 0px 1px 3px 1px rgba(60, 64, 67, 0.15);\n",
              "      fill: #174EA6;\n",
              "    }\n",
              "\n",
              "    .colab-df-buttons div {\n",
              "      margin-bottom: 4px;\n",
              "    }\n",
              "\n",
              "    [theme=dark] .colab-df-convert {\n",
              "      background-color: #3B4455;\n",
              "      fill: #D2E3FC;\n",
              "    }\n",
              "\n",
              "    [theme=dark] .colab-df-convert:hover {\n",
              "      background-color: #434B5C;\n",
              "      box-shadow: 0px 1px 3px 1px rgba(0, 0, 0, 0.15);\n",
              "      filter: drop-shadow(0px 1px 2px rgba(0, 0, 0, 0.3));\n",
              "      fill: #FFFFFF;\n",
              "    }\n",
              "  </style>\n",
              "\n",
              "    <script>\n",
              "      const buttonEl =\n",
              "        document.querySelector('#df-e4bac17f-6a08-466e-9dff-72657d940230 button.colab-df-convert');\n",
              "      buttonEl.style.display =\n",
              "        google.colab.kernel.accessAllowed ? 'block' : 'none';\n",
              "\n",
              "      async function convertToInteractive(key) {\n",
              "        const element = document.querySelector('#df-e4bac17f-6a08-466e-9dff-72657d940230');\n",
              "        const dataTable =\n",
              "          await google.colab.kernel.invokeFunction('convertToInteractive',\n",
              "                                                    [key], {});\n",
              "        if (!dataTable) return;\n",
              "\n",
              "        const docLinkHtml = 'Like what you see? Visit the ' +\n",
              "          '<a target=\"_blank\" href=https://colab.research.google.com/notebooks/data_table.ipynb>data table notebook</a>'\n",
              "          + ' to learn more about interactive tables.';\n",
              "        element.innerHTML = '';\n",
              "        dataTable['output_type'] = 'display_data';\n",
              "        await google.colab.output.renderOutput(dataTable, element);\n",
              "        const docLink = document.createElement('div');\n",
              "        docLink.innerHTML = docLinkHtml;\n",
              "        element.appendChild(docLink);\n",
              "      }\n",
              "    </script>\n",
              "  </div>\n",
              "\n",
              "\n",
              "    <div id=\"df-425081f1-0992-4778-bf4c-c17fe9d98245\">\n",
              "      <button class=\"colab-df-quickchart\" onclick=\"quickchart('df-425081f1-0992-4778-bf4c-c17fe9d98245')\"\n",
              "                title=\"Suggest charts\"\n",
              "                style=\"display:none;\">\n",
              "\n",
              "<svg xmlns=\"http://www.w3.org/2000/svg\" height=\"24px\"viewBox=\"0 0 24 24\"\n",
              "     width=\"24px\">\n",
              "    <g>\n",
              "        <path d=\"M19 3H5c-1.1 0-2 .9-2 2v14c0 1.1.9 2 2 2h14c1.1 0 2-.9 2-2V5c0-1.1-.9-2-2-2zM9 17H7v-7h2v7zm4 0h-2V7h2v10zm4 0h-2v-4h2v4z\"/>\n",
              "    </g>\n",
              "</svg>\n",
              "      </button>\n",
              "\n",
              "<style>\n",
              "  .colab-df-quickchart {\n",
              "      --bg-color: #E8F0FE;\n",
              "      --fill-color: #1967D2;\n",
              "      --hover-bg-color: #E2EBFA;\n",
              "      --hover-fill-color: #174EA6;\n",
              "      --disabled-fill-color: #AAA;\n",
              "      --disabled-bg-color: #DDD;\n",
              "  }\n",
              "\n",
              "  [theme=dark] .colab-df-quickchart {\n",
              "      --bg-color: #3B4455;\n",
              "      --fill-color: #D2E3FC;\n",
              "      --hover-bg-color: #434B5C;\n",
              "      --hover-fill-color: #FFFFFF;\n",
              "      --disabled-bg-color: #3B4455;\n",
              "      --disabled-fill-color: #666;\n",
              "  }\n",
              "\n",
              "  .colab-df-quickchart {\n",
              "    background-color: var(--bg-color);\n",
              "    border: none;\n",
              "    border-radius: 50%;\n",
              "    cursor: pointer;\n",
              "    display: none;\n",
              "    fill: var(--fill-color);\n",
              "    height: 32px;\n",
              "    padding: 0;\n",
              "    width: 32px;\n",
              "  }\n",
              "\n",
              "  .colab-df-quickchart:hover {\n",
              "    background-color: var(--hover-bg-color);\n",
              "    box-shadow: 0 1px 2px rgba(60, 64, 67, 0.3), 0 1px 3px 1px rgba(60, 64, 67, 0.15);\n",
              "    fill: var(--button-hover-fill-color);\n",
              "  }\n",
              "\n",
              "  .colab-df-quickchart-complete:disabled,\n",
              "  .colab-df-quickchart-complete:disabled:hover {\n",
              "    background-color: var(--disabled-bg-color);\n",
              "    fill: var(--disabled-fill-color);\n",
              "    box-shadow: none;\n",
              "  }\n",
              "\n",
              "  .colab-df-spinner {\n",
              "    border: 2px solid var(--fill-color);\n",
              "    border-color: transparent;\n",
              "    border-bottom-color: var(--fill-color);\n",
              "    animation:\n",
              "      spin 1s steps(1) infinite;\n",
              "  }\n",
              "\n",
              "  @keyframes spin {\n",
              "    0% {\n",
              "      border-color: transparent;\n",
              "      border-bottom-color: var(--fill-color);\n",
              "      border-left-color: var(--fill-color);\n",
              "    }\n",
              "    20% {\n",
              "      border-color: transparent;\n",
              "      border-left-color: var(--fill-color);\n",
              "      border-top-color: var(--fill-color);\n",
              "    }\n",
              "    30% {\n",
              "      border-color: transparent;\n",
              "      border-left-color: var(--fill-color);\n",
              "      border-top-color: var(--fill-color);\n",
              "      border-right-color: var(--fill-color);\n",
              "    }\n",
              "    40% {\n",
              "      border-color: transparent;\n",
              "      border-right-color: var(--fill-color);\n",
              "      border-top-color: var(--fill-color);\n",
              "    }\n",
              "    60% {\n",
              "      border-color: transparent;\n",
              "      border-right-color: var(--fill-color);\n",
              "    }\n",
              "    80% {\n",
              "      border-color: transparent;\n",
              "      border-right-color: var(--fill-color);\n",
              "      border-bottom-color: var(--fill-color);\n",
              "    }\n",
              "    90% {\n",
              "      border-color: transparent;\n",
              "      border-bottom-color: var(--fill-color);\n",
              "    }\n",
              "  }\n",
              "</style>\n",
              "\n",
              "      <script>\n",
              "        async function quickchart(key) {\n",
              "          const quickchartButtonEl =\n",
              "            document.querySelector('#' + key + ' button');\n",
              "          quickchartButtonEl.disabled = true;  // To prevent multiple clicks.\n",
              "          quickchartButtonEl.classList.add('colab-df-spinner');\n",
              "          try {\n",
              "            const charts = await google.colab.kernel.invokeFunction(\n",
              "                'suggestCharts', [key], {});\n",
              "          } catch (error) {\n",
              "            console.error('Error during call to suggestCharts:', error);\n",
              "          }\n",
              "          quickchartButtonEl.classList.remove('colab-df-spinner');\n",
              "          quickchartButtonEl.classList.add('colab-df-quickchart-complete');\n",
              "        }\n",
              "        (() => {\n",
              "          let quickchartButtonEl =\n",
              "            document.querySelector('#df-425081f1-0992-4778-bf4c-c17fe9d98245 button');\n",
              "          quickchartButtonEl.style.display =\n",
              "            google.colab.kernel.accessAllowed ? 'block' : 'none';\n",
              "        })();\n",
              "      </script>\n",
              "    </div>\n",
              "\n",
              "    </div>\n",
              "  </div>\n"
            ],
            "application/vnd.google.colaboratory.intrinsic+json": {
              "type": "dataframe",
              "variable_name": "df",
              "summary": "{\n  \"name\": \"df\",\n  \"rows\": 99,\n  \"fields\": [\n    {\n      \"column\": \"color\",\n      \"properties\": {\n        \"dtype\": \"category\",\n        \"num_unique_values\": 3,\n        \"samples\": [\n          \"Color\",\n          \"color \",\n          \" Black and White\"\n        ],\n        \"semantic_type\": \"\",\n        \"description\": \"\"\n      }\n    },\n    {\n      \"column\": \"director_name\",\n      \"properties\": {\n        \"dtype\": \"string\",\n        \"num_unique_values\": 63,\n        \"samples\": [\n          \"David Ayer\",\n          \"Tony Gilroy\",\n          \"Martin Scorsese\"\n        ],\n        \"semantic_type\": \"\",\n        \"description\": \"\"\n      }\n    },\n    {\n      \"column\": \"duration\",\n      \"properties\": {\n        \"dtype\": \"number\",\n        \"std\": 72,\n        \"min\": -50,\n        \"max\": 650,\n        \"num_unique_values\": 39,\n        \"samples\": [\n          138,\n          135,\n          183\n        ],\n        \"semantic_type\": \"\",\n        \"description\": \"\"\n      }\n    },\n    {\n      \"column\": \"gross\",\n      \"properties\": {\n        \"dtype\": \"number\",\n        \"std\": 139950256.81859657,\n        \"min\": 41229.0,\n        \"max\": 623279547.0,\n        \"num_unique_values\": 85,\n        \"samples\": [\n          52474616.0,\n          116866727.0,\n          132550960.0\n        ],\n        \"semantic_type\": \"\",\n        \"description\": \"\"\n      }\n    },\n    {\n      \"column\": \"genres\",\n      \"properties\": {\n        \"dtype\": \"string\",\n        \"num_unique_values\": 56,\n        \"samples\": [\n          \"Biography|Comedy|Crime|Drama\",\n          \"Drama|Romance\",\n          \"Drama|Horror|Thriller\"\n        ],\n        \"semantic_type\": \"\",\n        \"description\": \"\"\n      }\n    },\n    {\n      \"column\": \"movie_title\",\n      \"properties\": {\n        \"dtype\": \"string\",\n        \"num_unique_values\": 91,\n        \"samples\": [\n          \"The Help\",\n          \"The Revenant\",\n          \"Avengers: Age of Ultron\"\n        ],\n        \"semantic_type\": \"\",\n        \"description\": \"\"\n      }\n    },\n    {\n      \"column\": \"title_year\",\n      \"properties\": {\n        \"dtype\": \"number\",\n        \"std\": 255,\n        \"min\": 202,\n        \"max\": 2016,\n        \"num_unique_values\": 9,\n        \"samples\": [\n          2016,\n          2015,\n          2014\n        ],\n        \"semantic_type\": \"\",\n        \"description\": \"\"\n      }\n    },\n    {\n      \"column\": \"language\",\n      \"properties\": {\n        \"dtype\": \"category\",\n        \"num_unique_values\": 1,\n        \"samples\": [\n          \"English\"\n        ],\n        \"semantic_type\": \"\",\n        \"description\": \"\"\n      }\n    },\n    {\n      \"column\": \"country\",\n      \"properties\": {\n        \"dtype\": \"category\",\n        \"num_unique_values\": 12,\n        \"samples\": [\n          \"Kyrgyzstan\"\n        ],\n        \"semantic_type\": \"\",\n        \"description\": \"\"\n      }\n    },\n    {\n      \"column\": \"budget\",\n      \"properties\": {\n        \"dtype\": \"number\",\n        \"std\": 77031692.48433194,\n        \"min\": 17350.0,\n        \"max\": 250000000.0,\n        \"num_unique_values\": 56,\n        \"samples\": [\n          100000000.0\n        ],\n        \"semantic_type\": \"\",\n        \"description\": \"\"\n      }\n    },\n    {\n      \"column\": \"imdb_score\",\n      \"properties\": {\n        \"dtype\": \"number\",\n        \"std\": 1.925513582443392,\n        \"min\": -7.5,\n        \"max\": 8.8,\n        \"num_unique_values\": 35,\n        \"samples\": [\n          3.0\n        ],\n        \"semantic_type\": \"\",\n        \"description\": \"\"\n      }\n    },\n    {\n      \"column\": \"actors\",\n      \"properties\": {\n        \"dtype\": \"string\",\n        \"num_unique_values\": 88,\n        \"samples\": [\n          \"Liam Neeson,Charlize Theron,Seth MacFarlane\"\n        ],\n        \"semantic_type\": \"\",\n        \"description\": \"\"\n      }\n    },\n    {\n      \"column\": \"movie_facebook_likes\",\n      \"properties\": {\n        \"dtype\": \"number\",\n        \"std\": 58108,\n        \"min\": 0,\n        \"max\": 349000,\n        \"num_unique_values\": 67,\n        \"samples\": [\n          72000\n        ],\n        \"semantic_type\": \"\",\n        \"description\": \"\"\n      }\n    }\n  ]\n}"
            }
          },
          "metadata": {},
          "execution_count": 20
        }
      ],
      "source": [
        "df = pd.read_csv('/content/movie_sample_dataset (1).csv')\n",
        "df.head()"
      ]
    },
    {
      "cell_type": "markdown",
      "id": "9d665ceb",
      "metadata": {
        "id": "9d665ceb"
      },
      "source": [
        "# Memeriksa Data"
      ]
    },
    {
      "cell_type": "code",
      "execution_count": null,
      "id": "c336fe72",
      "metadata": {
        "colab": {
          "base_uri": "https://localhost:8080/"
        },
        "id": "c336fe72",
        "outputId": "5c53213f-3f8b-4362-8633-408c54ccd300"
      },
      "outputs": [
        {
          "output_type": "execute_result",
          "data": {
            "text/plain": [
              "(99, 13)"
            ]
          },
          "metadata": {},
          "execution_count": 21
        }
      ],
      "source": [
        "df.shape"
      ]
    },
    {
      "cell_type": "markdown",
      "source": [
        "Memeriksa banyak data (baris) dan atribut (kolom) yang tersedia sebelum melanjutkan ke langkah preprocessing atau analisis. dataset \"Movie\" memiliki 99 baris dan 13 kolom."
      ],
      "metadata": {
        "id": "_8Evp2LOP_5B"
      },
      "id": "_8Evp2LOP_5B"
    },
    {
      "cell_type": "markdown",
      "source": [
        "Memeriksa tipe data setiap kolom dalam DataFrame pada dataset \"Movie\"."
      ],
      "metadata": {
        "id": "AEE3TbbYWgee"
      },
      "id": "AEE3TbbYWgee"
    },
    {
      "cell_type": "code",
      "source": [
        "df.dtypes"
      ],
      "metadata": {
        "colab": {
          "base_uri": "https://localhost:8080/",
          "height": 492
        },
        "id": "jcmg30oUfO5i",
        "outputId": "f2867d31-a60c-4290-ebbb-099abfee4687"
      },
      "id": "jcmg30oUfO5i",
      "execution_count": null,
      "outputs": [
        {
          "output_type": "execute_result",
          "data": {
            "text/plain": [
              "color                    object\n",
              "director_name            object\n",
              "duration                  int64\n",
              "gross                   float64\n",
              "genres                   object\n",
              "movie_title              object\n",
              "title_year                int64\n",
              "language                 object\n",
              "country                  object\n",
              "budget                  float64\n",
              "imdb_score              float64\n",
              "actors                   object\n",
              "movie_facebook_likes      int64\n",
              "dtype: object"
            ],
            "text/html": [
              "<div>\n",
              "<style scoped>\n",
              "    .dataframe tbody tr th:only-of-type {\n",
              "        vertical-align: middle;\n",
              "    }\n",
              "\n",
              "    .dataframe tbody tr th {\n",
              "        vertical-align: top;\n",
              "    }\n",
              "\n",
              "    .dataframe thead th {\n",
              "        text-align: right;\n",
              "    }\n",
              "</style>\n",
              "<table border=\"1\" class=\"dataframe\">\n",
              "  <thead>\n",
              "    <tr style=\"text-align: right;\">\n",
              "      <th></th>\n",
              "      <th>0</th>\n",
              "    </tr>\n",
              "  </thead>\n",
              "  <tbody>\n",
              "    <tr>\n",
              "      <th>color</th>\n",
              "      <td>object</td>\n",
              "    </tr>\n",
              "    <tr>\n",
              "      <th>director_name</th>\n",
              "      <td>object</td>\n",
              "    </tr>\n",
              "    <tr>\n",
              "      <th>duration</th>\n",
              "      <td>int64</td>\n",
              "    </tr>\n",
              "    <tr>\n",
              "      <th>gross</th>\n",
              "      <td>float64</td>\n",
              "    </tr>\n",
              "    <tr>\n",
              "      <th>genres</th>\n",
              "      <td>object</td>\n",
              "    </tr>\n",
              "    <tr>\n",
              "      <th>movie_title</th>\n",
              "      <td>object</td>\n",
              "    </tr>\n",
              "    <tr>\n",
              "      <th>title_year</th>\n",
              "      <td>int64</td>\n",
              "    </tr>\n",
              "    <tr>\n",
              "      <th>language</th>\n",
              "      <td>object</td>\n",
              "    </tr>\n",
              "    <tr>\n",
              "      <th>country</th>\n",
              "      <td>object</td>\n",
              "    </tr>\n",
              "    <tr>\n",
              "      <th>budget</th>\n",
              "      <td>float64</td>\n",
              "    </tr>\n",
              "    <tr>\n",
              "      <th>imdb_score</th>\n",
              "      <td>float64</td>\n",
              "    </tr>\n",
              "    <tr>\n",
              "      <th>actors</th>\n",
              "      <td>object</td>\n",
              "    </tr>\n",
              "    <tr>\n",
              "      <th>movie_facebook_likes</th>\n",
              "      <td>int64</td>\n",
              "    </tr>\n",
              "  </tbody>\n",
              "</table>\n",
              "</div><br><label><b>dtype:</b> object</label>"
            ]
          },
          "metadata": {},
          "execution_count": 22
        }
      ]
    },
    {
      "cell_type": "markdown",
      "source": [
        "Memanfaatkan fungsi .isnull().sum(), Kita dapat mengetahui jumlah missing data pada masing-masing kolom di dataset “Movie”."
      ],
      "metadata": {
        "id": "dVetmTAQWC4z"
      },
      "id": "dVetmTAQWC4z"
    },
    {
      "cell_type": "code",
      "execution_count": null,
      "id": "25f1691c",
      "metadata": {
        "colab": {
          "base_uri": "https://localhost:8080/"
        },
        "id": "25f1691c",
        "outputId": "ad3af292-35a1-45ea-e9ba-4360f123cd73"
      },
      "outputs": [
        {
          "output_type": "stream",
          "name": "stdout",
          "text": [
            "color                   11\n",
            "director_name           11\n",
            "duration                 0\n",
            "gross                    8\n",
            "genres                   1\n",
            "movie_title              0\n",
            "title_year               0\n",
            "language                 0\n",
            "country                  0\n",
            "budget                   4\n",
            "imdb_score               0\n",
            "actors                   0\n",
            "movie_facebook_likes     0\n",
            "dtype: int64\n"
          ]
        }
      ],
      "source": [
        "import numpy as np\n",
        "\n",
        "# cek banyaknya missing value pada masing-masing kolom\n",
        "print(df.isnull().sum())"
      ]
    },
    {
      "cell_type": "markdown",
      "source": [
        "# Membersihkan Data"
      ],
      "metadata": {
        "id": "heuMWjNdYoJv"
      },
      "id": "heuMWjNdYoJv"
    },
    {
      "cell_type": "markdown",
      "source": [
        "dropna() digunakan untuk menghapus baris (rows) yang memiliki nilai kosong (NaN).\n",
        "Parameter subset=['gross', 'budget'] berarti hanya akan memeriksa kolom gross dan budget.\n",
        "Jadi, jika salah satu atau kedua kolom tersebut berisi NaN pada suatu baris, baris tersebut akan dihapus dari DataFrame."
      ],
      "metadata": {
        "id": "OJoQQd4waDHd"
      },
      "id": "OJoQQd4waDHd"
    },
    {
      "cell_type": "code",
      "source": [
        "# Hapus baris dengan NaN di kolom penting: 'gross' dan 'budget'\n",
        "df = df.dropna(subset=['gross', 'budget'])"
      ],
      "metadata": {
        "id": "87DPHYURhy5V"
      },
      "id": "87DPHYURhy5V",
      "execution_count": null,
      "outputs": []
    },
    {
      "cell_type": "markdown",
      "source": [
        "Mengubah semua teks di kolom color menjadi huruf kecil agar konsisten dengan memanfaatkan fungsi .str.lower()."
      ],
      "metadata": {
        "id": "MitEkLNpaOPH"
      },
      "id": "MitEkLNpaOPH"
    },
    {
      "cell_type": "code",
      "source": [
        "# Atasi nilai yang tidak konsisten\n",
        "# samakan 'Color' vs 'color'\n",
        "if 'color' in df.columns:\n",
        "    df['color'] = df['color'].str.lower().str.strip()"
      ],
      "metadata": {
        "id": "rvmU9CT-h5Jn"
      },
      "id": "rvmU9CT-h5Jn",
      "execution_count": null,
      "outputs": []
    },
    {
      "cell_type": "markdown",
      "source": [
        "Pada dataset “Movie” missing data memiliki nilai 'N/A' atau string kosong \" \". Kita dapat melakukan replace 'N/A' atau string kosong \" \" dengan NaN (Not a number) yang merupakan penanda missing value dalam Python. Kita dapat mengganti data menggunakan fungsi berikut:\n",
        "\n",
        ".replace(x, y, inplace=True) — dimana x-value akan diganti dengan y-value.\n",
        "\n"
      ],
      "metadata": {
        "id": "r3ZQraIAc3ll"
      },
      "id": "r3ZQraIAc3ll"
    },
    {
      "cell_type": "code",
      "source": [
        "# Ganti nilai tidak standar seperti 'N/A' atau string kosong menjadi NaN\n",
        "df.replace(['N/A', 'n/a', '', 'na'], np.nan, inplace=True)"
      ],
      "metadata": {
        "id": "MGwKleJtiCvt"
      },
      "id": "MGwKleJtiCvt",
      "execution_count": null,
      "outputs": []
    },
    {
      "cell_type": "markdown",
      "source": [
        "membersihkan data numerik agar tidak ada nilai negatif pada kolo budget, gross, duration, atau imdb_score dengan memanfaatkan fungsi .astype(float) >= 0 (menyaring baris agar hanya menyisakan nilai >= 0 (membuang baris dengan nilai negatif))"
      ],
      "metadata": {
        "id": "Lbdf0ixemR_L"
      },
      "id": "Lbdf0ixemR_L"
    },
    {
      "cell_type": "code",
      "source": [
        "# Pastikan tidak ada angka negatif di kolom numerik tertentu\n",
        "num_cols = ['budget', 'gross', 'duration', 'imdb_score']\n",
        "for col in num_cols:\n",
        "    if col in df.columns:\n",
        "        df = df[df[col].astype(float) >= 0]"
      ],
      "metadata": {
        "id": "mRCo8QcDt-CO"
      },
      "id": "mRCo8QcDt-CO",
      "execution_count": null,
      "outputs": []
    },
    {
      "cell_type": "markdown",
      "source": [
        "# Transformasi Data"
      ],
      "metadata": {
        "id": "MAjbNQwlmnqN"
      },
      "id": "MAjbNQwlmnqN"
    },
    {
      "cell_type": "markdown",
      "source": [
        "Mengubah tipe data menjadi format numerik (float atau int) untuk kolom gross dan budget menggunakan fungsi .astype()."
      ],
      "metadata": {
        "id": "-EG0Gvw7t2fh"
      },
      "id": "-EG0Gvw7t2fh"
    },
    {
      "cell_type": "code",
      "source": [
        "# Ubah tipe data kolom budget dan gross menjadi numerik\n",
        "df['budget'] = df[\"budget\"].astype(\"float\")\n",
        "df['gross'] = df[\"gross\"].astype(\"float\")"
      ],
      "metadata": {
        "id": "um35dFJqjALT"
      },
      "id": "um35dFJqjALT",
      "execution_count": null,
      "outputs": []
    },
    {
      "cell_type": "markdown",
      "source": [
        "Mengubah kolom genres yang berisi beberapa kategori dalam satu sel menjadi beberapa kolom biner (0/1) dengan metode one-hot encoding. Proses ini memastikan nilai kosong diganti dengan string kosong, kemudian memecah genre yang dipisahkan tanda | dengan fungsi .str.get_dummies(sep='|', dan akhirnya menambahkan kolom hasil pecahan ke DataFrame."
      ],
      "metadata": {
        "id": "rw4gK9YGvaCW"
      },
      "id": "rw4gK9YGvaCW"
    },
    {
      "cell_type": "code",
      "source": [
        "# Pisahkan genres menjadi beberapa kolom (one-hot encoding)\n",
        "if 'genres' in df.columns:\n",
        "    # pastikan tidak ada NaN\n",
        "    df['genres'] = df['genres'].fillna('')\n",
        "    # buat dummy variables dari genre yang dipisahkan '|'\n",
        "    genre_dummies = df['genres'].str.get_dummies(sep='|')\n",
        "    # gabungkan kembali ke dataframe\n",
        "    df = pd.concat([df, genre_dummies], axis=1)"
      ],
      "metadata": {
        "id": "vIQ0pi2jjcON"
      },
      "id": "vIQ0pi2jjcON",
      "execution_count": null,
      "outputs": []
    },
    {
      "cell_type": "markdown",
      "source": [
        "Menormalisasi teks pada semua kolom bertipe string (object). Setiap nilai diubah menjadi string, dikonversi ke huruf kecil, dibersihkan dari spasi di awal/akhir, dan spasi ganda di tengah teks diganti menjadi satu spasi."
      ],
      "metadata": {
        "id": "baU6dp3mwPRO"
      },
      "id": "baU6dp3mwPRO"
    },
    {
      "cell_type": "code",
      "source": [
        "# Normalisasi teks untuk semua kolom bertipe object (string)\n",
        "for col in df.select_dtypes(include='object').columns:\n",
        "    df[col] = (\n",
        "        df[col]\n",
        "        .astype(str)                # pastikan tipe string\n",
        "        .str.lower()                # ubah jadi huruf kecil\n",
        "        .str.strip()                # hapus spasi awal/akhir\n",
        "        .str.replace(r'\\s+', ' ', regex=True)  # ganti spasi ganda jadi satu\n",
        "    )"
      ],
      "metadata": {
        "id": "bLv_tB7Yk5aq"
      },
      "id": "bLv_tB7Yk5aq",
      "execution_count": null,
      "outputs": []
    },
    {
      "cell_type": "markdown",
      "source": [
        "# Penyimpanan Data"
      ],
      "metadata": {
        "id": "aWWKm3H-wVQx"
      },
      "id": "aWWKm3H-wVQx"
    },
    {
      "cell_type": "markdown",
      "source": [
        "Terakhir, menyimpan dataset hasil preprocessing ke file CSV baru bernama movie_dataset_cleaned.csv"
      ],
      "metadata": {
        "id": "lDdCf9BzwZRQ"
      },
      "id": "lDdCf9BzwZRQ"
    },
    {
      "cell_type": "code",
      "source": [
        "output_path = \"movie_dataset_cleaned.csv\"\n",
        "df.to_csv(output_path, index=False)\n",
        "\n",
        "print(f\"\\nData setelah preprocessing disimpan ke {output_path}\")"
      ],
      "metadata": {
        "colab": {
          "base_uri": "https://localhost:8080/"
        },
        "id": "19gU6mEglmbS",
        "outputId": "e25ff43a-0f79-4634-d479-8de60411bc78"
      },
      "id": "19gU6mEglmbS",
      "execution_count": null,
      "outputs": [
        {
          "output_type": "stream",
          "name": "stdout",
          "text": [
            "\n",
            "Data setelah preprocessing disimpan ke movie_dataset_cleaned.csv\n"
          ]
        }
      ]
    }
  ],
  "metadata": {
    "kernelspec": {
      "display_name": "Python 3 (ipykernel)",
      "language": "python",
      "name": "python3"
    },
    "language_info": {
      "codemirror_mode": {
        "name": "ipython",
        "version": 3
      },
      "file_extension": ".py",
      "mimetype": "text/x-python",
      "name": "python",
      "nbconvert_exporter": "python",
      "pygments_lexer": "ipython3",
      "version": "3.11.4"
    },
    "colab": {
      "provenance": []
    }
  },
  "nbformat": 4,
  "nbformat_minor": 5
}